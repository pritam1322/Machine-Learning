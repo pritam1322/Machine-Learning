# Machine-Learning

import tensorflow as tf
from tensorflow import keras
from tensorflow.keras.applications import inception_v3
base_image_path = keras.utils.get_file("sky.jpg", "https://i.imgur.com/aGBdQyK.jpg")
result_prefix = "sky_dream"

# These are the names of the layers
# for which we try to maximize activation,
# as well as their weight in the final loss
# we try to maximize.
# You can tweak these setting to obtain new visual effects.

layer_settings = {
    "mixed4": 1.0,
    "mixed5": 1.5,
    "mixed6": 2.0,
    "mixed7": 2.5,
}

# Playing with these hyperparameters will also allow you to achieve new effects

step = 0.01  # Gradient ascent step size
num_octave = 3  # Number of scales at which to run gradient ascent
octave_scale = 1.4  # Size ratio between scales
iterations = 20  # Number of ascent steps per scale
max_loss = 15.0

Downloading data from https://i.imgur.com/aGBdQyK.jpg
131072/127372 [==============================] - 0s 2us/step
from IPython.display import  Image , display
display(Image(base_image_path))

def preprocess_image(image_path):
    # Util function to open, resize and format pictures
    # into appropriate arrays.
    img = keras.preprocessing.image.load_img(image_path)
    img = keras.preprocessing.image.img_to_array(img)
    img = np.expand_dims(img, axis=0)
    img = inception_v3.preprocess_input(img)
    return img


def deprocess_image(x):
    # Util function to convert a NumPy array into a valid image.
    x = x.reshape((x.shape[1], x.shape[2], 3))
    # Undo inception v3 preprocessing
    x /= 2.0
    x += 0.5
    x *= 255.0
    # Convert to uint8 and clip to the valid range [0, 255]
    x = np.clip(x, 0, 255).astype("uint8")
    return x
model = inception_v3.InceptionV3(weights="imagenet", include_top=False)

# Get the symbolic outputs of each "key" layer (we gave them unique names).

outputs_dict = dict(
    [
        (layer.name, layer.output)
        for layer in [model.get_layer(name) for name in layer_settings.keys()]
    ]
)

# Set up a model that returns the activation values for every target layer
# (as a dict)

feature_extractor = keras.Model(inputs=model.inputs, outputs=outputs_dict)
Downloading data from https://storage.googleapis.com/tensorflow/keras-applications/inception_v3/inception_v3_weights_tf_dim_ordering_tf_kernels_notop.h5
87916544/87910968 [==============================] - 2s 0us/step


def compute_loss(input_image):
    features = feature_extractor(input_image)
    # Initialize the loss
    loss = tf.zeros(shape=())
    for name in features.keys():
        coeff = layer_settings[name]
        activation = features[name]
        # We avoid border artifacts by only involving non-border pixels in the loss.
        scaling = tf.reduce_prod(tf.cast(tf.shape(activation), "float32"))
        loss += coeff * tf.reduce_sum(tf.square(activation[:, 2:-2, 2:-2, :])) / scaling
    return loss
    
    
@tf.function
def gradient_ascent_step(img, learning_rate):
    with tf.GradientTape() as tape:
        tape.watch(img)
        loss = compute_loss(img)
    # Compute gradients.
    grads = tape.gradient(loss, img)
    # Normalize gradients.
    grads /= tf.maximum(tf.reduce_mean(tf.abs(grads)), 1e-6)
    img += learning_rate * grads
    return loss, img


def gradient_ascent_loop(img, iterations, learning_rate, max_loss=None):
    for i in range(iterations):
        loss, img = gradient_ascent_step(img, learning_rate)
        if max_loss is not None and loss > max_loss:
            break
        print("... Loss value at step %d: %.2f" % (i, loss))
    return img
original_img = preprocess_image(base_image_path)
original_shape = original_img.shape[1:3]

successive_shapes = [original_shape]
for i in range(1, num_octave):
    shape = tuple([int(dim / (octave_scale ** i)) for dim in original_shape])
    successive_shapes.append(shape)
successive_shapes = successive_shapes[::-1]
shrunk_original_img = tf.image.resize(original_img, successive_shapes[0])

img = tf.identity(original_img)  # Make a copy
for i, shape in enumerate(successive_shapes):
    print("Processing octave %d with shape %s" % (i, shape))
    img = tf.image.resize(img, shape)
    img = gradient_ascent_loop(img, iterations=iterations, learning_rate=step, max_loss=max_loss)
    upscaled_shrunk_original_img = tf.image.resize(shrunk_original_img, shape)
    same_size_original = tf.image.resize(original_img, shape)
    lost_detail = same_size_original - upscaled_shrunk_original_img

    img += lost_detail
    shrunk_original_img = tf.image.resize(original_img, shape)

keras.preprocessing.image.save_img(result_prefix + ".png", deprocess_image(img.numpy()))


Processing octave 0 with shape (326, 489)
... Loss value at step 0: 0.44
... Loss value at step 1: 0.62
... Loss value at step 2: 0.90
... Loss value at step 3: 1.24
... Loss value at step 4: 1.56
... Loss value at step 5: 1.91
... Loss value at step 6: 2.23
... Loss value at step 7: 2.54
... Loss value at step 8: 2.81
... Loss value at step 9: 3.11
... Loss value at step 10: 3.38
... Loss value at step 11: 3.65
... Loss value at step 12: 3.94
... Loss value at step 13: 4.18
... Loss value at step 14: 4.48
... Loss value at step 15: 4.72
... Loss value at step 16: 4.98
... Loss value at step 17: 5.24
... Loss value at step 18: 5.49
... Loss value at step 19: 5.71
Processing octave 1 with shape (457, 685)
... Loss value at step 0: 1.11
... Loss value at step 1: 1.78
... Loss value at step 2: 2.35
... Loss value at step 3: 2.83
... Loss value at step 4: 3.30
... Loss value at step 5: 3.72
... Loss value at step 6: 4.13
... Loss value at step 7: 4.51
... Loss value at step 8: 4.90
... Loss value at step 9: 5.28
... Loss value at step 10: 5.64
... Loss value at step 11: 5.99
... Loss value at step 12: 6.33
... Loss value at step 13: 6.68
... Loss value at step 14: 7.00
... Loss value at step 15: 7.32
... Loss value at step 16: 7.61
... Loss value at step 17: 7.93
... Loss value at step 18: 8.22
... Loss value at step 19: 8.55
Processing octave 2 with shape (640, 960)
... Loss value at step 0: 1.30
... Loss value at step 1: 2.09
... Loss value at step 2: 2.73
... Loss value at step 3: 3.25
... Loss value at step 4: 3.77
... Loss value at step 5: 4.25
... Loss value at step 6: 4.70
... Loss value at step 7: 5.13
... Loss value at step 8: 5.56
... Loss value at step 9: 5.96
... Loss value at step 10: 6.34
... Loss value at step 11: 6.72
... Loss value at step 12: 7.10
... Loss value at step 13: 7.46
... Loss value at step 14: 7.78
... Loss value at step 15: 8.15
... Loss value at step 16: 8.46
... Loss value at step 17: 8.77
... Loss value at step 18: 9.09
... Loss value at step 19: 9.41


display(Image(result_prefix + ".png"))
